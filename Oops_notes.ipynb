{
  "nbformat": 4,
  "nbformat_minor": 0,
  "metadata": {
    "colab": {
      "provenance": []
    },
    "kernelspec": {
      "name": "python3",
      "display_name": "Python 3"
    },
    "language_info": {
      "name": "python"
    }
  },
  "cells": [
    {
      "cell_type": "markdown",
      "source": [],
      "metadata": {
        "id": "KfmI0TsEi-zV"
      }
    },
    {
      "cell_type": "markdown",
      "source": [
        "## Object-Oriented Programming (OOP) in Python is a programming paradigm that uses objects and classes to structure software. Here are the key concepts and components of OOP in Python:"
      ],
      "metadata": {
        "id": "OLB2PSXFjBx0"
      }
    },
    {
      "cell_type": "code",
      "source": [
        "name=\"barath\""
      ],
      "metadata": {
        "id": "fy23_i4OjCtP"
      },
      "execution_count": null,
      "outputs": []
    },
    {
      "cell_type": "code",
      "source": [
        "name.upper()"
      ],
      "metadata": {
        "colab": {
          "base_uri": "https://localhost:8080/",
          "height": 36
        },
        "id": "tlJEWMZCjOT8",
        "outputId": "6b5407e1-63dd-4cc3-b79e-3eaeaf1401ca"
      },
      "execution_count": null,
      "outputs": [
        {
          "output_type": "execute_result",
          "data": {
            "text/plain": [
              "'BARATH'"
            ],
            "application/vnd.google.colaboratory.intrinsic+json": {
              "type": "string"
            }
          },
          "metadata": {},
          "execution_count": 4
        }
      ]
    },
    {
      "cell_type": "markdown",
      "source": [
        "# Class: A blueprint for creating objects. It defines a set of attributes and methods that the created objects (instances) will have."
      ],
      "metadata": {
        "id": "SWE64lM_kl5N"
      }
    },
    {
      "cell_type": "code",
      "source": [
        "## Oop's - Object [list is a Class here which have certain functions it's called objects] - Animals is \"Class\" and \"dog\" is it's \"object\"\n",
        "list=[1,2,3,4]\n",
        "print(type(list))"
      ],
      "metadata": {
        "colab": {
          "base_uri": "https://localhost:8080/"
        },
        "id": "5OK-ZREJjQBV",
        "outputId": "54040227-f947-4389-f27d-684f4e87923d"
      },
      "execution_count": null,
      "outputs": [
        {
          "output_type": "stream",
          "name": "stdout",
          "text": [
            "<class 'list'>\n"
          ]
        }
      ]
    },
    {
      "cell_type": "code",
      "source": [
        "class Dog:\n",
        "    def __init__(self, name, age):\n",
        "        self.name = name\n",
        "        self.age = age\n",
        "\n",
        "    def bark(self):\n",
        "        return f\"{self.name} says woof!\""
      ],
      "metadata": {
        "id": "RPjr8SO1kEnv"
      },
      "execution_count": null,
      "outputs": []
    },
    {
      "cell_type": "markdown",
      "source": [
        "# ATM Machine"
      ],
      "metadata": {
        "id": "Pn4gIu-MmtNO"
      }
    },
    {
      "cell_type": "code",
      "source": [
        "class AtmSBI:\n",
        "    ## Constructor (special function)\n",
        "    def __init__(self):\n",
        "        self.pin = \"\"\n",
        "        self.balance = 0\n",
        "        self.menu()\n",
        "        # print(\"Welcome to ATM\")\n",
        "\n",
        "    def menu(self):\n",
        "        user_input = input(\n",
        "            \"\"\"\n",
        "            Hi, how are you? How can I help you?\n",
        "\n",
        "            1. Press 1 to create pin\n",
        "            2. Press 2 to change the pin\n",
        "            3. Press 3 to check the balance\n",
        "            4. Press 4 to withdraw money\n",
        "            5. Anything other to exit\n",
        "            \"\"\"\n",
        "        )\n",
        "\n",
        "        if user_input == \"1\":\n",
        "            self.create_pin()\n",
        "            # Create the pin\n",
        "\n",
        "        elif user_input == \"2\":\n",
        "            # Change the pin\n",
        "            self.change_pin()\n",
        "\n",
        "        elif user_input == \"3\":\n",
        "            self.check_balance()\n",
        "            # Check the balance\n",
        "\n",
        "        elif user_input == \"4\":\n",
        "            self.withdraw()\n",
        "            # Withdraw money\n",
        "\n",
        "        else:\n",
        "            exit()\n",
        "        # Exit\n",
        "\n",
        "    def create_pin(self):\n",
        "        user_pin = input(\"Enter your 4 digit pin: \")\n",
        "        self.pin = user_pin\n",
        "\n",
        "        user_balance = int(input(\"Enter balance: \"))\n",
        "        self.balance = user_balance\n",
        "        print(\"Pin created successfully\")\n",
        "        self.menu()\n",
        "\n",
        "    def change_pin(self):\n",
        "        old_pin = input(\"Enter your old pin: \")\n",
        "\n",
        "        if old_pin == self.pin:\n",
        "            # Let change the pin\n",
        "            new_pin = input(\"Enter your new pin: \")\n",
        "            self.pin = new_pin\n",
        "            print(\"Pin changed successfully\")\n",
        "        else:\n",
        "            print(\"You have entered the wrong pin\")\n",
        "        self.menu()\n",
        "\n",
        "    def check_balance(self):\n",
        "        user_pin = input(\"Enter your pin: \")\n",
        "        if user_pin == self.pin:\n",
        "            print(f\"Your balance is {self.balance}\")\n",
        "        else:\n",
        "            print(\"Your pin is incorrect! Please try again\")\n",
        "        self.menu()\n",
        "\n",
        "    def withdraw(self):\n",
        "        user_pin = input(\"Enter your pin: \")\n",
        "        if user_pin == self.pin:\n",
        "            # Allow to withdraw\n",
        "            amount = int(input(\"Enter the amount you want to withdraw: \"))\n",
        "            if amount <= self.balance:\n",
        "                self.balance = self.balance - amount\n",
        "                print(f\"Your remaining balance is {self.balance}\")\n",
        "            else:\n",
        "                print(\"You have insufficient balance\")\n",
        "        else:\n",
        "            print(\"Your pin is wrong\")\n",
        "        self.menu()\n",
        "\n",
        "# Create an instance of the AtmMachine class\n",
        "atm = AtmSBI()\n"
      ],
      "metadata": {
        "colab": {
          "base_uri": "https://localhost:8080/"
        },
        "id": "UkydmevvAaUZ",
        "outputId": "22716623-a567-487e-d8df-f4ffd9861eed"
      },
      "execution_count": null,
      "outputs": [
        {
          "name": "stdout",
          "output_type": "stream",
          "text": [
            "\n",
            "            Hi, how are you? How can I help you?\n",
            "\n",
            "            1. Press 1 to create pin\n",
            "            2. Press 2 to change the pin\n",
            "            3. Press 3 to check the balance\n",
            "            4. Press 4 to withdraw money\n",
            "            5. Anything other to exit\n",
            "            8\n"
          ]
        }
      ]
    },
    {
      "cell_type": "code",
      "source": [
        "class AtmICICI:\n",
        "    ## Constructor (special function)\n",
        "    def __init__(self):\n",
        "        self.pin = \"\"\n",
        "        self.balance = 0\n",
        "        self.menu()\n",
        "        # print(\"Welcome to ATM\")\n",
        "\n",
        "    def menu(self):\n",
        "        user_input = input(\n",
        "            \"\"\"\n",
        "            Hi, how are you? How can I help you?\n",
        "\n",
        "            1. Press 1 to create pin\n",
        "            2. Press 2 to change the pin\n",
        "            3. Press 3 to check the balance\n",
        "            4. Press 4 to withdraw money\n",
        "            5. Anything other to exit\n",
        "            \"\"\"\n",
        "        )\n",
        "\n",
        "        if user_input == \"1\":\n",
        "            self.create_pin()\n",
        "            # Create the pin\n",
        "\n",
        "        elif user_input == \"2\":\n",
        "            # Change the pin\n",
        "            self.change_pin()\n",
        "\n",
        "        elif user_input == \"3\":\n",
        "            self.check_balance()\n",
        "            # Check the balance\n",
        "\n",
        "        elif user_input == \"4\":\n",
        "            self.withdraw()\n",
        "            # Withdraw money\n",
        "\n",
        "        else:\n",
        "            exit()\n",
        "        # Exit\n",
        "\n",
        "    def create_pin(self):\n",
        "        user_pin = input(\"Enter your 4 digit pin: \")\n",
        "        self.pin = user_pin\n",
        "\n",
        "        user_balance = int(input(\"Enter balance: \"))\n",
        "        self.balance = user_balance\n",
        "        print(\"Pin created successfully\")\n",
        "        self.menu()\n",
        "\n",
        "    def change_pin(self):\n",
        "        old_pin = input(\"Enter your old pin: \")\n",
        "\n",
        "        if old_pin == self.pin:\n",
        "            # Let change the pin\n",
        "            new_pin = input(\"Enter your new pin: \")\n",
        "            self.pin = new_pin\n",
        "            print(\"Pin changed successfully\")\n",
        "        else:\n",
        "            print(\"You have entered the wrong pin\")\n",
        "        self.menu()\n",
        "\n",
        "    def check_balance(self):\n",
        "        user_pin = input(\"Enter your pin: \")\n",
        "        if user_pin == self.pin:\n",
        "            print(f\"Your balance is {self.balance}\")\n",
        "        else:\n",
        "            print(\"Your pin is incorrect! Please try again\")\n",
        "        self.menu()\n",
        "\n",
        "    def withdraw(self):\n",
        "        user_pin = input(\"Enter your pin: \")\n",
        "        if user_pin == self.pin:\n",
        "            # Allow to withdraw\n",
        "            amount = int(input(\"Enter the amount you want to withdraw: \"))\n",
        "            if amount <= self.balance:\n",
        "                self.balance = self.balance - amount\n",
        "                print(f\"Your remaining balance is {self.balance}\")\n",
        "            else:\n",
        "                print(\"You have insufficient balance\")\n",
        "        else:\n",
        "            print(\"Your pin is wrong\")\n",
        "        self.menu()\n",
        "\n",
        "# Create an instance of the AtmMachine class\n",
        "atm2 = AtmICICI()\n"
      ],
      "metadata": {
        "colab": {
          "base_uri": "https://localhost:8080/"
        },
        "id": "vTcTnF50AqVS",
        "outputId": "f54b8c9a-766a-463d-822a-c5f15ee7ac28"
      },
      "execution_count": null,
      "outputs": [
        {
          "name": "stdout",
          "output_type": "stream",
          "text": [
            "\n",
            "            Hi, how are you? How can I help you?\n",
            "\n",
            "            1. Press 1 to create pin\n",
            "            2. Press 2 to change the pin\n",
            "            3. Press 3 to check the balance\n",
            "            4. Press 4 to withdraw money\n",
            "            5. Anything other to exit\n",
            "            9\n"
          ]
        }
      ]
    },
    {
      "cell_type": "markdown",
      "source": [
        "Object: An instance of a class. Each object can have its own data (attributes) and behavior (methods).\n",
        "\n"
      ],
      "metadata": {
        "id": "EhySzC3d_wRd"
      }
    },
    {
      "cell_type": "code",
      "source": [],
      "metadata": {
        "id": "woxS3ACY_R_Z"
      },
      "execution_count": null,
      "outputs": []
    },
    {
      "cell_type": "markdown",
      "source": [
        "#### difference between \"menthod\" and \"function\"\n",
        "\n",
        "1. Inside Class whatever function you are writing it's called - Method\n",
        "2. without class a simple function is actually the functions"
      ],
      "metadata": {
        "id": "fVeTuPEcKNZO"
      }
    },
    {
      "cell_type": "markdown",
      "source": [
        "# Encapsulation: - Oops class:2\n",
        "#### The bundling of data (attributes) and methods that operate on the data into a single unit or class, and restricting access to some of the object's components. This can be achieved using private attributes and methods.\n"
      ],
      "metadata": {
        "id": "e02BvAevpUYE"
      }
    },
    {
      "cell_type": "code",
      "source": [
        "class person:\n",
        "  def __init__(self,name, country):\n",
        "    self.name=name\n",
        "    self.country=country\n",
        "\n",
        "\n",
        "\n",
        "  def greetings(self):\n",
        "    if self.country == \"india\":\n",
        "      print(f\"Hii how are you!, welcome to india {self.name}\")\n",
        "\n",
        "    else:\n",
        "      print(f\"Hello {self.name}\")"
      ],
      "metadata": {
        "id": "1ekAtdMEph9N"
      },
      "execution_count": null,
      "outputs": []
    },
    {
      "cell_type": "code",
      "source": [
        "p=person(\"Barath\",\"india\")"
      ],
      "metadata": {
        "id": "ZrjOx6dArlau"
      },
      "execution_count": null,
      "outputs": []
    },
    {
      "cell_type": "code",
      "source": [
        "p.greetings()"
      ],
      "metadata": {
        "colab": {
          "base_uri": "https://localhost:8080/"
        },
        "id": "sqEv9CDTsT0N",
        "outputId": "31110949-7d87-4fe4-9cdb-3c7d8eb4d111"
      },
      "execution_count": null,
      "outputs": [
        {
          "output_type": "stream",
          "name": "stdout",
          "text": [
            "Hii how are you!, welcome to india Barath\n"
          ]
        }
      ]
    },
    {
      "cell_type": "code",
      "source": [
        "p.name"
      ],
      "metadata": {
        "colab": {
          "base_uri": "https://localhost:8080/",
          "height": 36
        },
        "id": "K6vu6c6OsZsE",
        "outputId": "fa820c72-8b85-4030-d2d6-82ceecfe4c00"
      },
      "execution_count": null,
      "outputs": [
        {
          "output_type": "execute_result",
          "data": {
            "text/plain": [
              "'Barath'"
            ],
            "application/vnd.google.colaboratory.intrinsic+json": {
              "type": "string"
            }
          },
          "metadata": {},
          "execution_count": 22
        }
      ]
    },
    {
      "cell_type": "code",
      "source": [
        "p.country"
      ],
      "metadata": {
        "colab": {
          "base_uri": "https://localhost:8080/",
          "height": 36
        },
        "id": "PMTv0uT1tic8",
        "outputId": "2864d663-efec-4270-cdf9-689dc70d30ee"
      },
      "execution_count": null,
      "outputs": [
        {
          "output_type": "execute_result",
          "data": {
            "text/plain": [
              "'india'"
            ],
            "application/vnd.google.colaboratory.intrinsic+json": {
              "type": "string"
            }
          },
          "metadata": {},
          "execution_count": 23
        }
      ]
    },
    {
      "cell_type": "code",
      "source": [
        "## Attribute creation from outside of the class - the class that you are creating are mutable objects\n",
        "p.gender=\"male\""
      ],
      "metadata": {
        "id": "kabz_rmutuaO"
      },
      "execution_count": null,
      "outputs": []
    },
    {
      "cell_type": "code",
      "source": [
        "p.gender"
      ],
      "metadata": {
        "colab": {
          "base_uri": "https://localhost:8080/",
          "height": 36
        },
        "id": "2QlNMxVnuZwk",
        "outputId": "1dd919c7-0393-4e2c-a964-baf52064b014"
      },
      "execution_count": null,
      "outputs": [
        {
          "output_type": "execute_result",
          "data": {
            "text/plain": [
              "'male'"
            ],
            "application/vnd.google.colaboratory.intrinsic+json": {
              "type": "string"
            }
          },
          "metadata": {},
          "execution_count": 25
        }
      ]
    },
    {
      "cell_type": "code",
      "source": [
        "## Instance variable\n",
        "class person:\n",
        "  def __init__(self,name, country):\n",
        "    self.name=name\n",
        "    self.country=country\n",
        "\n",
        "p1=person(\"barath\",\"uk\")\n",
        "p2=person(\"sunny\",\"india\")"
      ],
      "metadata": {
        "id": "67SHKF3Mubi_"
      },
      "execution_count": null,
      "outputs": []
    },
    {
      "cell_type": "code",
      "source": [
        "print(p1.name), print(p1.country)\n",
        "print(p2.name), print(p2.country)"
      ],
      "metadata": {
        "colab": {
          "base_uri": "https://localhost:8080/"
        },
        "id": "MbFkxCt415H3",
        "outputId": "fc886673-663f-489b-c3bc-aa8e3801b8a1"
      },
      "execution_count": null,
      "outputs": [
        {
          "output_type": "stream",
          "name": "stdout",
          "text": [
            "barath\n",
            "uk\n",
            "sunny\n",
            "india\n"
          ]
        },
        {
          "output_type": "execute_result",
          "data": {
            "text/plain": [
              "(None, None)"
            ]
          },
          "metadata": {},
          "execution_count": 33
        }
      ]
    },
    {
      "cell_type": "code",
      "source": [
        "class Atm:\n",
        "    ## Constructor (special function)\n",
        "    def __init__(self):\n",
        "        self.pin = \"\"\n",
        "        self.balance = 0\n",
        "        #self.menu()\n",
        "        # print(\"Welcome to ATM\")\n",
        "\n",
        "    def menu(self):\n",
        "        user_input = input(\n",
        "            \"\"\"\n",
        "            Hi, how are you? How can I help you?\n",
        "\n",
        "            1. Press 1 to create pin\n",
        "            2. Press 2 to change the pin\n",
        "            3. Press 3 to check the balance\n",
        "            4. Press 4 to withdraw money\n",
        "            5. Anything other to exit\n",
        "            \"\"\"\n",
        "        )\n",
        "\n",
        "        if user_input == \"1\":\n",
        "            self.create_pin()\n",
        "            # Create the pin\n",
        "\n",
        "        elif user_input == \"2\":\n",
        "            # Change the pin\n",
        "            self.change_pin()\n",
        "\n",
        "        elif user_input == \"3\":\n",
        "            self.check_balance()\n",
        "            # Check the balance\n",
        "\n",
        "        elif user_input == \"4\":\n",
        "            self.withdraw()\n",
        "            # Withdraw money\n",
        "\n",
        "        else:\n",
        "            exit()\n",
        "        # Exit\n",
        "\n",
        "    def create_pin(self):\n",
        "        user_pin = input(\"Enter your 4 digit pin: \")\n",
        "        self.pin = user_pin\n",
        "\n",
        "        user_balance = int(input(\"Enter balance: \"))\n",
        "        self.balance = user_balance\n",
        "        print(\"Pin created successfully\")\n",
        "        #self.menu()\n",
        "\n",
        "    def change_pin(self):\n",
        "        old_pin = input(\"Enter your old pin: \")\n",
        "\n",
        "        if old_pin == self.pin:\n",
        "            # Let change the pin\n",
        "            new_pin = input(\"Enter your new pin: \")\n",
        "            self.pin = new_pin\n",
        "            print(\"Pin changed successfully\")\n",
        "        else:\n",
        "            print(\"You have entered the wrong pin\")\n",
        "        #self.menu()\n",
        "\n",
        "    def check_balance(self):\n",
        "        user_pin = input(\"Enter your pin: \")\n",
        "        if user_pin == self.pin:\n",
        "            print(f\"Your balance is {self.balance}\")\n",
        "        else:\n",
        "            print(\"Your pin is incorrect! Please try again\")\n",
        "        #self.menu()\n",
        "\n",
        "    def withdraw(self):\n",
        "        user_pin = input(\"Enter your pin: \")\n",
        "        if user_pin == self.pin:\n",
        "            # Allow to withdraw\n",
        "            amount = int(input(\"Enter the amount you want to withdraw: \"))\n",
        "            if amount <= self.balance:\n",
        "                self.balance = self.balance - amount\n",
        "                print(f\"Your remaining balance is {self.balance}\")\n",
        "            else:\n",
        "                print(\"You have insufficient balance\")\n",
        "        else:\n",
        "            print(\"Your pin is wrong\")\n",
        "        #self.menu()\n",
        "\n",
        "# Create an instance of the AtmMachine class\n",
        "atm = Atm()"
      ],
      "metadata": {
        "id": "ss501aR217S_"
      },
      "execution_count": null,
      "outputs": []
    },
    {
      "cell_type": "code",
      "source": [
        "atm = Atm()"
      ],
      "metadata": {
        "id": "X0OvWoL23FPN"
      },
      "execution_count": null,
      "outputs": []
    },
    {
      "cell_type": "code",
      "source": [
        "atm.create_pin()\n",
        "atm.balance=\"no money\""
      ],
      "metadata": {
        "colab": {
          "base_uri": "https://localhost:8080/"
        },
        "id": "hQhSgbws3JdP",
        "outputId": "64684860-f0e1-4d09-feca-017277678e8b"
      },
      "execution_count": null,
      "outputs": [
        {
          "output_type": "stream",
          "name": "stdout",
          "text": [
            "Enter your 4 digit pin: 123\n",
            "Enter balance: 1000\n",
            "Pin created successfully\n"
          ]
        }
      ]
    },
    {
      "cell_type": "code",
      "source": [
        "atm.withdraw()"
      ],
      "metadata": {
        "colab": {
          "base_uri": "https://localhost:8080/"
        },
        "id": "SpJ3W_vw4NJV",
        "outputId": "4338eadb-489c-4195-a8c8-53778a99843c"
      },
      "execution_count": null,
      "outputs": [
        {
          "output_type": "stream",
          "name": "stdout",
          "text": [
            "Enter your pin: 123\n",
            "Enter the amount you want to withdraw: 5000\n",
            "You have insufficient balance\n"
          ]
        }
      ]
    },
    {
      "cell_type": "code",
      "source": [
        "## we are creating \"balance\" as __balance - private variable so no one can change it\n",
        "\n",
        "class Atm:\n",
        "    ## Constructor (special function)\n",
        "    def __init__(self):\n",
        "        self.pin = \"\"\n",
        "        self.__balance = 0\n",
        "        #self.menu()\n",
        "        # print(\"Welcome to ATM\")\n",
        "\n",
        "    def menu(self):\n",
        "        user_input = input(\n",
        "            \"\"\"\n",
        "            Hi, how are you? How can I help you?\n",
        "\n",
        "            1. Press 1 to create pin\n",
        "            2. Press 2 to change the pin\n",
        "            3. Press 3 to check the balance\n",
        "            4. Press 4 to withdraw money\n",
        "            5. Anything other to exit\n",
        "            \"\"\"\n",
        "        )\n",
        "\n",
        "        if user_input == \"1\":\n",
        "            self.create_pin()\n",
        "            # Create the pin\n",
        "\n",
        "        elif user_input == \"2\":\n",
        "            # Change the pin\n",
        "            self.change_pin()\n",
        "\n",
        "        elif user_input == \"3\":\n",
        "            self.check_balance()\n",
        "            # Check the balance\n",
        "\n",
        "        elif user_input == \"4\":\n",
        "            self.withdraw()\n",
        "            # Withdraw money\n",
        "\n",
        "        else:\n",
        "            exit()\n",
        "        # Exit\n",
        "\n",
        "    def create_pin(self):\n",
        "        user_pin = input(\"Enter your 4 digit pin: \")\n",
        "        self.pin = user_pin\n",
        "\n",
        "        user_balance = int(input(\"Enter balance: \"))\n",
        "        self.__balance = user_balance\n",
        "        print(\"Pin created successfully\")\n",
        "        #self.menu()\n",
        "\n",
        "    def change_pin(self):\n",
        "        old_pin = input(\"Enter your old pin: \")\n",
        "\n",
        "        if old_pin == self.pin:\n",
        "            # Let change the pin\n",
        "            new_pin = input(\"Enter your new pin: \")\n",
        "            self.pin = new_pin\n",
        "            print(\"Pin changed successfully\")\n",
        "        else:\n",
        "            print(\"You have entered the wrong pin\")\n",
        "        #self.menu()\n",
        "\n",
        "    def check_balance(self):\n",
        "        user_pin = input(\"Enter your pin: \")\n",
        "        if user_pin == self.pin:\n",
        "            print(f\"Your balance is {self.__balance}\")\n",
        "        else:\n",
        "            print(\"Your pin is incorrect! Please try again\")\n",
        "        #self.menu()\n",
        "\n",
        "    def withdraw(self):\n",
        "        user_pin = input(\"Enter your pin: \")\n",
        "        if user_pin == self.pin:\n",
        "            # Allow to withdraw\n",
        "            amount = int(input(\"Enter the amount you want to withdraw: \"))\n",
        "            if amount <= self.__balance:\n",
        "                self.__balance = self.__balance - amount\n",
        "                print(f\"Your remaining balance is {self.__balance}\")\n",
        "            else:\n",
        "                print(\"You have insufficient balance\")\n",
        "        else:\n",
        "            print(\"Your pin is wrong\")\n",
        "        #self.menu()\n",
        "\n",
        "# Create an instance of the AtmMachine class\n",
        "atm = Atm()"
      ],
      "metadata": {
        "id": "MXaK2Vrc4Wj4"
      },
      "execution_count": null,
      "outputs": []
    },
    {
      "cell_type": "code",
      "source": [
        "atm.create_pin()\n",
        "atm.__balance=\"no money\""
      ],
      "metadata": {
        "colab": {
          "base_uri": "https://localhost:8080/"
        },
        "id": "pqABU8uk5VU5",
        "outputId": "3ae1b92d-5e0b-47da-fa27-20e8149a294e"
      },
      "execution_count": null,
      "outputs": [
        {
          "output_type": "stream",
          "name": "stdout",
          "text": [
            "Enter your 4 digit pin: 123\n",
            "Enter balance: 10000\n",
            "Pin created successfully\n"
          ]
        }
      ]
    },
    {
      "cell_type": "code",
      "source": [
        "atm.withdraw()"
      ],
      "metadata": {
        "colab": {
          "base_uri": "https://localhost:8080/"
        },
        "id": "ilKKnrco5r-B",
        "outputId": "10ff55af-91f7-4bac-bb24-e4410110df8f"
      },
      "execution_count": null,
      "outputs": [
        {
          "output_type": "stream",
          "name": "stdout",
          "text": [
            "Enter your pin: 123\n",
            "Enter the amount you want to withdraw: 5000\n",
            "Your remaining balance is 5000\n"
          ]
        }
      ]
    },
    {
      "cell_type": "code",
      "source": [
        "atm.__balance"
      ],
      "metadata": {
        "colab": {
          "base_uri": "https://localhost:8080/",
          "height": 36
        },
        "id": "d-0zl1Pz5345",
        "outputId": "92859c66-2d27-4f47-dabe-4592b0259cee"
      },
      "execution_count": null,
      "outputs": [
        {
          "output_type": "execute_result",
          "data": {
            "text/plain": [
              "'no money'"
            ],
            "application/vnd.google.colaboratory.intrinsic+json": {
              "type": "string"
            }
          },
          "metadata": {},
          "execution_count": 41
        }
      ]
    },
    {
      "cell_type": "code",
      "source": [
        "atm._Atm__balance"
      ],
      "metadata": {
        "colab": {
          "base_uri": "https://localhost:8080/"
        },
        "id": "8qDBQN1h7M-i",
        "outputId": "ec1911b0-0fd3-407c-d8bf-ed9a7d283c0a"
      },
      "execution_count": null,
      "outputs": [
        {
          "output_type": "execute_result",
          "data": {
            "text/plain": [
              "5000"
            ]
          },
          "metadata": {},
          "execution_count": 42
        }
      ]
    },
    {
      "cell_type": "code",
      "source": [],
      "metadata": {
        "id": "9NZhLY0T7Wnf"
      },
      "execution_count": null,
      "outputs": []
    },
    {
      "cell_type": "code",
      "source": [],
      "metadata": {
        "id": "FVstpybXFeYx"
      },
      "execution_count": null,
      "outputs": []
    },
    {
      "cell_type": "code",
      "source": [],
      "metadata": {
        "id": "XxbRYZarFea6"
      },
      "execution_count": null,
      "outputs": []
    },
    {
      "cell_type": "code",
      "source": [
        "## we are creating \"balance\" as __balance - private variable so no one can change it\n",
        "\n",
        "class Atm:\n",
        "    ## Constructor (special function)\n",
        "    def __init__(self):\n",
        "        self.pin = \"\"\n",
        "        self.__balance = 0\n",
        "        #self.menu()\n",
        "        # print(\"Welcome to ATM\")\n",
        "\n",
        "\n",
        "### Getter method\n",
        "\n",
        "    def get_balance(self):\n",
        "      return self.__balance\n",
        "\n",
        "### setter method\n",
        "\n",
        "    def set_balance(self, new_balance):\n",
        "      if type(new_balance) == int:\n",
        "        self.__balance=new_balance\n",
        "      else:\n",
        "        print(\"enter the amount in number\")\n",
        "\n",
        "\n",
        "    def menu(self):\n",
        "        user_input = input(\n",
        "            \"\"\"\n",
        "            Hi, how are you? How can I help you?\n",
        "\n",
        "            1. Press 1 to create pin\n",
        "            2. Press 2 to change the pin\n",
        "            3. Press 3 to check the balance\n",
        "            4. Press 4 to withdraw money\n",
        "            5. Anything other to exit\n",
        "            \"\"\"\n",
        "        )\n",
        "\n",
        "        if user_input == \"1\":\n",
        "            self.create_pin()\n",
        "            # Create the pin\n",
        "\n",
        "        elif user_input == \"2\":\n",
        "            # Change the pin\n",
        "            self.change_pin()\n",
        "\n",
        "        elif user_input == \"3\":\n",
        "            self.check_balance()\n",
        "            # Check the balance\n",
        "\n",
        "        elif user_input == \"4\":\n",
        "            self.withdraw()\n",
        "            # Withdraw money\n",
        "\n",
        "        else:\n",
        "            exit()\n",
        "        # Exit\n",
        "\n",
        "    def create_pin(self):\n",
        "        user_pin = input(\"Enter your 4 digit pin: \")\n",
        "        self.pin = user_pin\n",
        "\n",
        "        user_balance = int(input(\"Enter balance: \"))\n",
        "        self.__balance = user_balance\n",
        "        print(\"Pin created successfully\")\n",
        "        #self.menu()\n",
        "\n",
        "    def change_pin(self):\n",
        "        old_pin = input(\"Enter your old pin: \")\n",
        "\n",
        "        if old_pin == self.pin:\n",
        "            # Let change the pin\n",
        "            new_pin = input(\"Enter your new pin: \")\n",
        "            self.pin = new_pin\n",
        "            print(\"Pin changed successfully\")\n",
        "        else:\n",
        "            print(\"You have entered the wrong pin\")\n",
        "        #self.menu()\n",
        "\n",
        "    def check_balance(self):\n",
        "        user_pin = input(\"Enter your pin: \")\n",
        "        if user_pin == self.pin:\n",
        "            print(f\"Your balance is {self.__balance}\")\n",
        "        else:\n",
        "            print(\"Your pin is incorrect! Please try again\")\n",
        "        #self.menu()\n",
        "\n",
        "    def withdraw(self):\n",
        "        user_pin = input(\"Enter your pin: \")\n",
        "        if user_pin == self.pin:\n",
        "            # Allow to withdraw\n",
        "            amount = int(input(\"Enter the amount you want to withdraw: \"))\n",
        "            if amount <= self.__balance:\n",
        "                self.__balance = self.__balance - amount\n",
        "                print(f\"Your remaining balance is {self.__balance}\")\n",
        "            else:\n",
        "                print(\"You have insufficient balance\")\n",
        "        else:\n",
        "            print(\"Your pin is wrong\")\n",
        "        #self.menu()\n",
        "\n",
        "# Create an instance of the AtmMachine class\n",
        "atm = Atm()"
      ],
      "metadata": {
        "id": "pAo_7jhdFeeX"
      },
      "execution_count": null,
      "outputs": []
    },
    {
      "cell_type": "code",
      "source": [
        "obj=Atm()"
      ],
      "metadata": {
        "id": "d84VdebsGmse"
      },
      "execution_count": null,
      "outputs": []
    },
    {
      "cell_type": "code",
      "source": [
        "obj.get_balance()"
      ],
      "metadata": {
        "colab": {
          "base_uri": "https://localhost:8080/"
        },
        "id": "qvdyAxUfG30i",
        "outputId": "de70171c-0331-4f9a-8069-9fcef66522e3"
      },
      "execution_count": null,
      "outputs": [
        {
          "output_type": "execute_result",
          "data": {
            "text/plain": [
              "0"
            ]
          },
          "metadata": {},
          "execution_count": 4
        }
      ]
    },
    {
      "cell_type": "code",
      "source": [
        "obj.set_balance(5000)"
      ],
      "metadata": {
        "id": "pA0ZrvhmHDlB"
      },
      "execution_count": null,
      "outputs": []
    },
    {
      "cell_type": "code",
      "source": [
        "obj.get_balance()"
      ],
      "metadata": {
        "colab": {
          "base_uri": "https://localhost:8080/"
        },
        "id": "KqGHcGbEHJAq",
        "outputId": "de152ea3-53b0-41f6-8033-03f892466075"
      },
      "execution_count": null,
      "outputs": [
        {
          "output_type": "execute_result",
          "data": {
            "text/plain": [
              "5000"
            ]
          },
          "metadata": {},
          "execution_count": 6
        }
      ]
    },
    {
      "cell_type": "code",
      "source": [],
      "metadata": {
        "id": "8_8-dEpOHQtD"
      },
      "execution_count": null,
      "outputs": []
    },
    {
      "cell_type": "markdown",
      "source": [
        "## Class-3 Inheritance & Polymorphism"
      ],
      "metadata": {
        "id": "0_EpDFC7Iua9"
      }
    },
    {
      "cell_type": "markdown",
      "source": [
        "Inheritance: A way to form new classes using classes that have already been defined. The new class (child class) inherits attributes and methods from the existing class (parent class)."
      ],
      "metadata": {
        "id": "iH6hc3yaL-Ti"
      }
    },
    {
      "cell_type": "code",
      "source": [
        "class Animal:\n",
        "    def __init__(self, name):\n",
        "        self.name = name\n",
        "\n",
        "    def make_sound(self):\n",
        "        return \"Some sound\"\n",
        "\n",
        "class Dog(Animal):\n",
        "    def make_sound(self):\n",
        "        return \"Woof!\"\n",
        "\n",
        "my_dog = Dog(\"Rex\")\n",
        "print(my_dog.make_sound())  # Output: Woof!"
      ],
      "metadata": {
        "colab": {
          "base_uri": "https://localhost:8080/"
        },
        "id": "TRXZJxSkL_XM",
        "outputId": "3fdb71ab-56fc-425e-fd77-8b4e38f91611"
      },
      "execution_count": null,
      "outputs": [
        {
          "output_type": "stream",
          "name": "stdout",
          "text": [
            "Woof!\n"
          ]
        }
      ]
    },
    {
      "cell_type": "code",
      "source": [
        "## Aggregarin - Relations b/w classess\n",
        "\n",
        "class customer:\n",
        "  def __init__(self,name,gender,address):\n",
        "    self.name=name\n",
        "    self.gender=gender\n",
        "    self.address=address\n",
        "\n",
        "  def print_address(self):\n",
        "    print(self.address.city,self.address.pin,self.address.state)\n",
        "\n",
        "class Address:\n",
        "  def __init__(self,city,pin,state):\n",
        "    self.city=city\n",
        "    self.pin=pin\n",
        "    self.state=state\n",
        "\n",
        "add=Address(\"chennai\",631602,\"tamilnadu\")\n",
        "cus=customer(\"Barath\",\"male\",add)\n",
        "cus.print_address()\n"
      ],
      "metadata": {
        "colab": {
          "base_uri": "https://localhost:8080/"
        },
        "id": "3IbRWf8VMHbi",
        "outputId": "d231e8db-55d7-4dd2-8cd3-d8c7c339aec1"
      },
      "execution_count": null,
      "outputs": [
        {
          "output_type": "stream",
          "name": "stdout",
          "text": [
            "chennai 631602 tamilnadu\n"
          ]
        }
      ]
    },
    {
      "cell_type": "code",
      "source": [
        "## Inheritance - Non private atribute / methoods\n",
        "\n",
        "\n",
        "#Parent class\n",
        "class User:\n",
        "  def __init__(self):\n",
        "    self.name=\"Barath\"\n",
        "    self.gender=\"male\"\n",
        "\n",
        "  def login(self):\n",
        "    print(\"Login completed\")\n",
        "\n",
        "\n",
        "# child class\n",
        "class Student(User):\n",
        "  def __init__(self):\n",
        "    self.rollno=1030\n",
        "\n",
        "  def enroll(self):\n",
        "    print(\"Enrolled into the course\")\n",
        "\n",
        "\n",
        "S=Student()\n",
        "S.login()\n",
        "S.enroll()"
      ],
      "metadata": {
        "colab": {
          "base_uri": "https://localhost:8080/"
        },
        "id": "PVQe8j25NftM",
        "outputId": "584e43e7-dc83-4080-bf9a-c4ef4cd03ca8"
      },
      "execution_count": null,
      "outputs": [
        {
          "output_type": "stream",
          "name": "stdout",
          "text": [
            "Login completed\n",
            "Enrolled into the course\n"
          ]
        }
      ]
    },
    {
      "cell_type": "code",
      "source": [
        "##If you do not have constructor in a child class then you can assess the parent class constructor using super() function#\n",
        "\n",
        "#Parent class\n",
        "class User:\n",
        "  def __init__(self):\n",
        "    self.name=\"Barath\"\n",
        "    self.gender=\"male\"\n",
        "\n",
        "  def login(self):\n",
        "    print(\"Login completed\")\n",
        "\n",
        "\n",
        "# child class\n",
        "class Student(User):\n",
        "  # def __init__(self):\n",
        "  #   self.rollno=1030\n",
        "\n",
        "  def enroll(self):\n",
        "    print(\"Enrolled into the course\")"
      ],
      "metadata": {
        "id": "0Gx7EGYQ57Qp"
      },
      "execution_count": null,
      "outputs": []
    },
    {
      "cell_type": "code",
      "source": [
        "S=Student()\n",
        "S.name"
      ],
      "metadata": {
        "colab": {
          "base_uri": "https://localhost:8080/",
          "height": 36
        },
        "id": "dgbS04Jy6uRT",
        "outputId": "67421fd3-2f58-4c08-e859-effc62918758"
      },
      "execution_count": null,
      "outputs": [
        {
          "output_type": "execute_result",
          "data": {
            "text/plain": [
              "'Barath'"
            ],
            "application/vnd.google.colaboratory.intrinsic+json": {
              "type": "string"
            }
          },
          "metadata": {},
          "execution_count": 11
        }
      ]
    },
    {
      "cell_type": "code",
      "source": [
        "class phone:\n",
        "  def __init__(self,price,brand,camera):\n",
        "    self.price=price\n",
        "    self.brand=brand\n",
        "    self.camera=camera\n",
        "\n",
        "  def buy(self):\n",
        "    print(\"Buying a Phone\")\n",
        "\n",
        "\n",
        "class smarphone(phone):\n",
        "  pass"
      ],
      "metadata": {
        "id": "iHqJBb846gPq"
      },
      "execution_count": null,
      "outputs": []
    },
    {
      "cell_type": "code",
      "source": [
        "Sw=smarphone(15000,\"moto\",3)"
      ],
      "metadata": {
        "id": "YE3q-PKH-4w8"
      },
      "execution_count": null,
      "outputs": []
    },
    {
      "cell_type": "code",
      "source": [
        "Sw.buy()"
      ],
      "metadata": {
        "colab": {
          "base_uri": "https://localhost:8080/"
        },
        "id": "fa9gpofe_UGI",
        "outputId": "6f50165e-f2d2-4d6b-a4bf-47925a7b27da"
      },
      "execution_count": null,
      "outputs": [
        {
          "output_type": "stream",
          "name": "stdout",
          "text": [
            "Buying a Phone\n"
          ]
        }
      ]
    },
    {
      "cell_type": "code",
      "source": [
        "class phone:\n",
        "  def __init__(self,price,brand,camera):\n",
        "    print(\"Inside phone constructor\")\n",
        "    self.price=price\n",
        "    self.brand=brand\n",
        "    self.camera=camera\n",
        "\n",
        "  def buy(self):\n",
        "    print(\"Buying a Phone\")\n",
        "\n",
        "\n",
        "class smartphone(phone):\n",
        "  def __init__(self, os, ram):\n",
        "    self.os=os\n",
        "    self.ram=ram\n",
        "    print(\"Inside smartphone constructor\")"
      ],
      "metadata": {
        "id": "8RtNbugb_fv4"
      },
      "execution_count": null,
      "outputs": []
    },
    {
      "cell_type": "code",
      "source": [
        "mob=smartphone(\"apple\",12)"
      ],
      "metadata": {
        "colab": {
          "base_uri": "https://localhost:8080/"
        },
        "id": "Syn8Xv2RdODa",
        "outputId": "f57f096e-7626-47f9-cd2f-772146152b13"
      },
      "execution_count": null,
      "outputs": [
        {
          "output_type": "stream",
          "name": "stdout",
          "text": [
            "Inside smartphone constructor\n"
          ]
        }
      ]
    },
    {
      "cell_type": "code",
      "source": [
        "class phone:\n",
        "  def __init__(self,price,brand,camera):\n",
        "    print(\"Inside phone constructor\")\n",
        "    self.__price=price\n",
        "    self.brand=brand\n",
        "    self.camera=camera\n",
        "\n",
        "  def buy(self):\n",
        "    print(\"Buying a Phone\")\n",
        "\n",
        "\n",
        "class smartphone(phone):\n",
        "  def check (self):\n",
        "    print(self.__price)"
      ],
      "metadata": {
        "id": "UKloR9RxeSSP"
      },
      "execution_count": null,
      "outputs": []
    },
    {
      "cell_type": "code",
      "source": [
        "mob=smartphone(30000,\"apple\",12)"
      ],
      "metadata": {
        "colab": {
          "base_uri": "https://localhost:8080/"
        },
        "id": "ZPOZrU79gdM3",
        "outputId": "4ef8c341-a07a-416a-bced-721498be97d3"
      },
      "execution_count": null,
      "outputs": [
        {
          "output_type": "stream",
          "name": "stdout",
          "text": [
            "Inside phone constructor\n"
          ]
        }
      ]
    },
    {
      "cell_type": "code",
      "source": [
        "class phone:\n",
        "  def __init__(self,price,brand,camera):\n",
        "    print(\"Inside phone constructor\")\n",
        "    self.__price=price\n",
        "    self.brand=brand\n",
        "    self.camera=camera\n",
        "\n",
        "  def buy(self):\n",
        "    print(\"Buying a Phone\")\n",
        "\n",
        "  def get_price(self):\n",
        "    return self.__price\n",
        "\n",
        "class smartphone(phone):\n",
        "  def check (self):\n",
        "    print(self.get_price())"
      ],
      "metadata": {
        "id": "GhCoP8QIhExL"
      },
      "execution_count": null,
      "outputs": []
    },
    {
      "cell_type": "code",
      "source": [
        "s=smartphone(200000,\"moto\" , 5)\n",
        "s.check()"
      ],
      "metadata": {
        "colab": {
          "base_uri": "https://localhost:8080/"
        },
        "id": "Jx5R2WD5kpxP",
        "outputId": "633c8375-3631-4929-9338-a4e30fab9c0c"
      },
      "execution_count": null,
      "outputs": [
        {
          "output_type": "stream",
          "name": "stdout",
          "text": [
            "Inside phone constructor\n",
            "200000\n"
          ]
        }
      ]
    },
    {
      "cell_type": "code",
      "source": [],
      "metadata": {
        "id": "6VKm6Uf0kuoM"
      },
      "execution_count": null,
      "outputs": []
    },
    {
      "cell_type": "code",
      "source": [],
      "metadata": {
        "id": "5bNZzAxK2ke9"
      },
      "execution_count": null,
      "outputs": []
    },
    {
      "cell_type": "code",
      "source": [
        "### Method overriding - if you have same method in both parent & child class, child class method will be executing first\n",
        "\n",
        "class phone:\n",
        "  def __init__(self,price,brand,camera):\n",
        "    print(\"Inside phone constructor\")\n",
        "    self.__price=price\n",
        "    self.brand=brand\n",
        "    self.camera=camera\n",
        "\n",
        "  def buy(self):\n",
        "    print(\"Buying a Phone\")\n",
        "\n",
        "\n",
        "class smartphone(phone):\n",
        "  def buy (self):\n",
        "    print(\"Buying a smart phone\")\n",
        "\n",
        "s=smartphone(200000,\"moto\" , 5)\n",
        "s.buy()\n",
        "s.camera"
      ],
      "metadata": {
        "colab": {
          "base_uri": "https://localhost:8080/"
        },
        "id": "aUOPdkcU2kiP",
        "outputId": "b8bd1641-84fd-43a9-ec15-ee6829310919"
      },
      "execution_count": null,
      "outputs": [
        {
          "output_type": "stream",
          "name": "stdout",
          "text": [
            "Inside phone constructor\n",
            "Buying a smart phone\n"
          ]
        },
        {
          "output_type": "execute_result",
          "data": {
            "text/plain": [
              "5"
            ]
          },
          "metadata": {},
          "execution_count": 7
        }
      ]
    },
    {
      "cell_type": "markdown",
      "source": [
        "### Super keyword"
      ],
      "metadata": {
        "id": "_Ry3TQn94nMT"
      }
    },
    {
      "cell_type": "code",
      "source": [
        "### Method overriding - if you have same method in both parent & child class, child class method will be executing first\n",
        "\n",
        "class phone:\n",
        "  def __init__(self,price,brand,camera):\n",
        "    print(\"Inside phone constructor\")\n",
        "    self.__price=price\n",
        "    self.brand=brand\n",
        "    self.camera=camera\n",
        "\n",
        "  def buy(self):\n",
        "    print(\"Buying a Phone\")\n",
        "\n",
        "\n",
        "class smartphone(phone):\n",
        "  def buy (self):\n",
        "    print(\"Buying a smart phone\")\n",
        "    super().buy()\n",
        "\n",
        "s=smartphone(200000,\"moto\" , 5)\n",
        "s.buy()\n",
        "s.camera"
      ],
      "metadata": {
        "colab": {
          "base_uri": "https://localhost:8080/"
        },
        "id": "s-wJcNlW2xny",
        "outputId": "d5669f57-7f15-4d93-b8b1-d5167e57c762"
      },
      "execution_count": null,
      "outputs": [
        {
          "output_type": "stream",
          "name": "stdout",
          "text": [
            "Inside phone constructor\n",
            "Buying a smart phone\n",
            "Buying a Phone\n"
          ]
        },
        {
          "output_type": "execute_result",
          "data": {
            "text/plain": [
              "5"
            ]
          },
          "metadata": {},
          "execution_count": 8
        }
      ]
    },
    {
      "cell_type": "code",
      "source": [
        "### Method overriding - if you have same method in both parent & child class, child class method will be executing first\n",
        "\n",
        "class phone:\n",
        "  def __init__(self,price,brand,camera):\n",
        "    print(\"Inside phone constructor\")\n",
        "    self.__price=price\n",
        "    self.brand=brand\n",
        "    self.camera=camera\n",
        "\n",
        "\n",
        "class smartphone(phone):\n",
        "  def __init__ (self,price,brand,camera,os,ram):\n",
        "    print(\"Inside smartphone constructor\")\n",
        "    super().__init__(price,brand,camera)\n",
        "    self.os=os\n",
        "    self.ram=ram\n",
        "\n",
        "s=smartphone(200000,\"moto\" , 5,\"android\", 16)\n"
      ],
      "metadata": {
        "colab": {
          "base_uri": "https://localhost:8080/"
        },
        "id": "a5s_Gyvp5equ",
        "outputId": "fa7a5eea-5fd6-4449-c2dc-fb1b97382393"
      },
      "execution_count": null,
      "outputs": [
        {
          "output_type": "stream",
          "name": "stdout",
          "text": [
            "Inside smartphone constructor\n",
            "Inside phone constructor\n"
          ]
        }
      ]
    },
    {
      "cell_type": "code",
      "source": [],
      "metadata": {
        "id": "0m2Y69M49nT3"
      },
      "execution_count": null,
      "outputs": []
    },
    {
      "cell_type": "markdown",
      "source": [
        "##Type of Inheritance\n",
        "\n",
        "1. Single\n",
        "2. Multilevel\n",
        "3. Hierarchical\n",
        "4. Multiple"
      ],
      "metadata": {
        "id": "_ETmBL8r_oh4"
      }
    },
    {
      "cell_type": "code",
      "source": [
        "## Multilevel Inheritance\n",
        "\n",
        "#Grandfather class\n",
        "class product:\n",
        "  def review(self):\n",
        "    print(\"Product customer review\")\n",
        "\n",
        "#Father class\n",
        "class phone(product):\n",
        "  def __init__(self,price,brand,camera):\n",
        "    print(\"Inside phone constructor\")\n",
        "    self.__price=price\n",
        "    self.brand=brand\n",
        "    self.camera=camera\n",
        "\n",
        "  def buy(self):\n",
        "    print(\"buying a phone\")\n",
        "\n",
        "#Child class\n",
        "class smartphone(phone):\n",
        "  pass\n",
        "\n",
        "\n",
        "s=smartphone(200000,\"moto\" , 5)\n",
        "s.buy()\n",
        "s.review()\n"
      ],
      "metadata": {
        "colab": {
          "base_uri": "https://localhost:8080/"
        },
        "id": "spPFpcPn_2EV",
        "outputId": "2b37337b-81b4-43c9-8934-c98b57b274d9"
      },
      "execution_count": null,
      "outputs": [
        {
          "output_type": "stream",
          "name": "stdout",
          "text": [
            "Inside phone constructor\n",
            "buying a phone\n",
            "Product customer review\n"
          ]
        }
      ]
    },
    {
      "cell_type": "code",
      "source": [
        "## Hierarchical Inheritance\n",
        "\n",
        "#parent class\n",
        "class phone:\n",
        "  def __init__(self,price,brand,camera):\n",
        "    print(\"Inside phone constructor\")\n",
        "    self.__price=price\n",
        "    self.brand=brand\n",
        "    self.camera=camera\n",
        "\n",
        "  def buy(self):\n",
        "    print(\"buying a phone\")\n",
        "\n",
        "#Child class\n",
        "class smartphone(phone):\n",
        "  pass\n",
        "\n",
        "#Child class\n",
        "class phoneFeature(phone):\n",
        "  pass\n",
        "\n",
        "\n",
        "s=smartphone(200000,\"moto\" , 5)\n",
        "s.buy()\n",
        "\n",
        "F=phoneFeature(200000,\"moto\" , 5)\n",
        "s.buy()"
      ],
      "metadata": {
        "colab": {
          "base_uri": "https://localhost:8080/"
        },
        "id": "2HaMG188TggJ",
        "outputId": "793905eb-63fb-41af-91ca-4872456ee3c6"
      },
      "execution_count": null,
      "outputs": [
        {
          "output_type": "stream",
          "name": "stdout",
          "text": [
            "Inside phone constructor\n",
            "buying a phone\n",
            "Inside phone constructor\n",
            "buying a phone\n"
          ]
        }
      ]
    },
    {
      "cell_type": "code",
      "source": [
        "## Multiple Inheritance\n",
        "\n",
        "#parent-1 class\n",
        "class phone:\n",
        "  def __init__(self,price,brand,camera):\n",
        "    print(\"Inside phone constructor\")\n",
        "    self.__price=price\n",
        "    self.brand=brand\n",
        "    self.camera=camera\n",
        "\n",
        "  def buy(self):\n",
        "    print(\"buying a phone\")\n",
        "\n",
        "#parent-2 class\n",
        "class product:\n",
        "  def review(self):\n",
        "    print(\"Product customer review\")\n",
        "\n",
        "class smartphone(phone, product):\n",
        "  pass\n",
        "\n",
        "\n",
        "s=smartphone(200000,\"moto\" , 5)\n",
        "s.buy()\n",
        "s.review()\n"
      ],
      "metadata": {
        "colab": {
          "base_uri": "https://localhost:8080/"
        },
        "id": "_lEzdDdwVBKD",
        "outputId": "049cf4dd-1c25-48a7-f995-26f87ab0f138"
      },
      "execution_count": null,
      "outputs": [
        {
          "output_type": "stream",
          "name": "stdout",
          "text": [
            "Inside phone constructor\n",
            "buying a phone\n",
            "Product customer review\n"
          ]
        }
      ]
    },
    {
      "cell_type": "code",
      "source": [],
      "metadata": {
        "id": "pfu7c75GWOho"
      },
      "execution_count": null,
      "outputs": []
    },
    {
      "cell_type": "markdown",
      "source": [
        "#Polymorphism\n",
        "-The ability to use a common interface for multiple forms (data types). In Python, polymorphism allows different classes to be treated as instances of the same class through inheritance."
      ],
      "metadata": {
        "id": "BCQy2pbqa_o_"
      }
    },
    {
      "cell_type": "code",
      "source": [
        "class Cat:\n",
        "    def make_sound(self):\n",
        "        return \"Meow!\"\n",
        "\n",
        "class Dog:\n",
        "    def make_sound(self):\n",
        "        return \"Woof!\"\n",
        "\n",
        "def make_animal_sound(animal):\n",
        "    print(animal.make_sound())\n",
        "\n",
        "my_dog = Dog()\n",
        "my_cat = Cat()\n",
        "make_animal_sound(my_dog)  # Output: Woof!\n",
        "make_animal_sound(my_cat)  # Output: Meow!"
      ],
      "metadata": {
        "colab": {
          "base_uri": "https://localhost:8080/"
        },
        "id": "o6m9WHOtbG_H",
        "outputId": "3c8c268d-338f-4944-fce2-d8a5cfa146ab"
      },
      "execution_count": null,
      "outputs": [
        {
          "output_type": "stream",
          "name": "stdout",
          "text": [
            "Woof!\n",
            "Meow!\n"
          ]
        }
      ]
    },
    {
      "cell_type": "code",
      "source": [
        "# Method overloading\n",
        "class shape:\n",
        "  def area(self,redius):\n",
        "    return 3.14*redius**2\n",
        "\n",
        "  def area(self,l,b):\n",
        "    return l*b\n",
        "\n",
        "S=shape()"
      ],
      "metadata": {
        "id": "0sPNX2PObVoe"
      },
      "execution_count": null,
      "outputs": []
    },
    {
      "cell_type": "code",
      "source": [
        "S.area(2,4)"
      ],
      "metadata": {
        "colab": {
          "base_uri": "https://localhost:8080/"
        },
        "id": "aswjmUPdcV1s",
        "outputId": "4436956e-0d92-4795-c0aa-d6ed24cf72b7"
      },
      "execution_count": null,
      "outputs": [
        {
          "output_type": "execute_result",
          "data": {
            "text/plain": [
              "8"
            ]
          },
          "metadata": {},
          "execution_count": 5
        }
      ]
    },
    {
      "cell_type": "code",
      "source": [
        "class shape:\n",
        "  def area(self,redius,l,b):\n",
        "    if b==0:\n",
        "      return 3.14*redius**2\n",
        "    else:\n",
        "      return l*b\n",
        "\n",
        "\n",
        "S=shape()\n",
        "S.area(2,2,0)\n"
      ],
      "metadata": {
        "colab": {
          "base_uri": "https://localhost:8080/"
        },
        "id": "4AWIfuTtcYlp",
        "outputId": "96e80038-2333-4a7a-dd4d-321ab32fea25"
      },
      "execution_count": null,
      "outputs": [
        {
          "output_type": "execute_result",
          "data": {
            "text/plain": [
              "12.56"
            ]
          },
          "metadata": {},
          "execution_count": 6
        }
      ]
    },
    {
      "cell_type": "code",
      "source": [],
      "metadata": {
        "id": "31w0MX5WeGPm"
      },
      "execution_count": null,
      "outputs": []
    },
    {
      "cell_type": "markdown",
      "source": [
        "##Abstraction:\n",
        "- The process of hiding the complex implementation details and showing only the necessary features of the object. In Python, abstraction can be achieved using abstract classes and methods."
      ],
      "metadata": {
        "id": "5jP8qSWDjNu0"
      }
    },
    {
      "cell_type": "code",
      "source": [
        "from abc import ABC, abstractmethod\n",
        "\n",
        "class Animal(ABC):\n",
        "    @abstractmethod\n",
        "    def make_sound(self):\n",
        "        pass\n",
        "\n",
        "class Dog(Animal):\n",
        "    def make_sound(self):\n",
        "        return \"Woof!\"\n",
        "\n",
        "class Cat(Animal):\n",
        "    def make_sound(self):\n",
        "        return \"Meow!\""
      ],
      "metadata": {
        "id": "tdjRQyhdjRKy"
      },
      "execution_count": null,
      "outputs": []
    },
    {
      "cell_type": "code",
      "source": [
        "from abc import ABC, abstractmethod\n",
        "\n",
        "class BankServer(ABC):\n",
        "  def database(self):\n",
        "    print(\"connected to database\")\n",
        "\n",
        "  @abstractmethod\n",
        "  def security(self):\n",
        "    print(\"Security Passes\")\n",
        "\n",
        "\n",
        "\n",
        "class MobileApp(BankServer):\n",
        "  def mobile_login(self):\n",
        "    print(\"logged in moble\")\n",
        "\n",
        "\n",
        "  def security(self):\n",
        "    print(\"Mobile Security Passes\")\n",
        "\n",
        "  def display(self):\n",
        "    print(\"Display\")\n",
        "\n",
        "mob=MobileApp()\n"
      ],
      "metadata": {
        "id": "cuUVLueKjZ_X"
      },
      "execution_count": null,
      "outputs": []
    },
    {
      "cell_type": "code",
      "source": [
        "mob.mobile_login()"
      ],
      "metadata": {
        "colab": {
          "base_uri": "https://localhost:8080/"
        },
        "id": "ap1oJeR7mScJ",
        "outputId": "bcd495f8-52bd-4359-9c42-6823ca9f2efb"
      },
      "execution_count": null,
      "outputs": [
        {
          "output_type": "stream",
          "name": "stdout",
          "text": [
            "logged in moble\n"
          ]
        }
      ]
    },
    {
      "cell_type": "code",
      "source": [
        "mob.database()"
      ],
      "metadata": {
        "colab": {
          "base_uri": "https://localhost:8080/"
        },
        "id": "3eZjlTzxmWOG",
        "outputId": "2ef6aedc-77dc-4e7e-da73-cbbe689fb491"
      },
      "execution_count": null,
      "outputs": [
        {
          "output_type": "stream",
          "name": "stdout",
          "text": [
            "connected to database\n"
          ]
        }
      ]
    },
    {
      "cell_type": "code",
      "source": [],
      "metadata": {
        "id": "8CF9m5rTmaV1"
      },
      "execution_count": null,
      "outputs": []
    }
  ]
}