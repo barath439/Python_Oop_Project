{
  "nbformat": 4,
  "nbformat_minor": 0,
  "metadata": {
    "colab": {
      "provenance": []
    },
    "kernelspec": {
      "name": "python3",
      "display_name": "Python 3"
    },
    "language_info": {
      "name": "python"
    }
  },
  "cells": [
    {
      "cell_type": "markdown",
      "source": [
        "# Three Main Things we will try to impliment\n",
        "\n",
        "1.Sentiment Analysis\n",
        "\n",
        "2.Language Transilation\n",
        "\n",
        "3.Language detection"
      ],
      "metadata": {
        "id": "fDxe0Z1_yXTw"
      }
    },
    {
      "cell_type": "code",
      "source": [
        "!pip install google-generativeai"
      ],
      "metadata": {
        "colab": {
          "base_uri": "https://localhost:8080/"
        },
        "id": "wb5Pzdl42djz",
        "outputId": "838a14a3-755a-4304-9d7d-9ba9f6e3d5bf"
      },
      "execution_count": null,
      "outputs": [
        {
          "output_type": "stream",
          "name": "stdout",
          "text": [
            "Requirement already satisfied: google-generativeai in /usr/local/lib/python3.10/dist-packages (0.5.4)\n",
            "Requirement already satisfied: google-ai-generativelanguage==0.6.4 in /usr/local/lib/python3.10/dist-packages (from google-generativeai) (0.6.4)\n",
            "Requirement already satisfied: google-api-core in /usr/local/lib/python3.10/dist-packages (from google-generativeai) (2.11.1)\n",
            "Requirement already satisfied: google-api-python-client in /usr/local/lib/python3.10/dist-packages (from google-generativeai) (2.84.0)\n",
            "Requirement already satisfied: google-auth>=2.15.0 in /usr/local/lib/python3.10/dist-packages (from google-generativeai) (2.27.0)\n",
            "Requirement already satisfied: protobuf in /usr/local/lib/python3.10/dist-packages (from google-generativeai) (3.20.3)\n",
            "Requirement already satisfied: pydantic in /usr/local/lib/python3.10/dist-packages (from google-generativeai) (2.7.4)\n",
            "Requirement already satisfied: tqdm in /usr/local/lib/python3.10/dist-packages (from google-generativeai) (4.66.4)\n",
            "Requirement already satisfied: typing-extensions in /usr/local/lib/python3.10/dist-packages (from google-generativeai) (4.12.2)\n",
            "Requirement already satisfied: proto-plus<2.0.0dev,>=1.22.3 in /usr/local/lib/python3.10/dist-packages (from google-ai-generativelanguage==0.6.4->google-generativeai) (1.24.0)\n",
            "Requirement already satisfied: cachetools<6.0,>=2.0.0 in /usr/local/lib/python3.10/dist-packages (from google-auth>=2.15.0->google-generativeai) (5.3.3)\n",
            "Requirement already satisfied: pyasn1-modules>=0.2.1 in /usr/local/lib/python3.10/dist-packages (from google-auth>=2.15.0->google-generativeai) (0.4.0)\n",
            "Requirement already satisfied: rsa<5,>=3.1.4 in /usr/local/lib/python3.10/dist-packages (from google-auth>=2.15.0->google-generativeai) (4.9)\n",
            "Requirement already satisfied: googleapis-common-protos<2.0.dev0,>=1.56.2 in /usr/local/lib/python3.10/dist-packages (from google-api-core->google-generativeai) (1.63.1)\n",
            "Requirement already satisfied: requests<3.0.0.dev0,>=2.18.0 in /usr/local/lib/python3.10/dist-packages (from google-api-core->google-generativeai) (2.31.0)\n",
            "Requirement already satisfied: httplib2<1dev,>=0.15.0 in /usr/local/lib/python3.10/dist-packages (from google-api-python-client->google-generativeai) (0.22.0)\n",
            "Requirement already satisfied: google-auth-httplib2>=0.1.0 in /usr/local/lib/python3.10/dist-packages (from google-api-python-client->google-generativeai) (0.1.1)\n",
            "Requirement already satisfied: uritemplate<5,>=3.0.1 in /usr/local/lib/python3.10/dist-packages (from google-api-python-client->google-generativeai) (4.1.1)\n",
            "Requirement already satisfied: annotated-types>=0.4.0 in /usr/local/lib/python3.10/dist-packages (from pydantic->google-generativeai) (0.7.0)\n",
            "Requirement already satisfied: pydantic-core==2.18.4 in /usr/local/lib/python3.10/dist-packages (from pydantic->google-generativeai) (2.18.4)\n",
            "Requirement already satisfied: grpcio<2.0dev,>=1.33.2 in /usr/local/lib/python3.10/dist-packages (from google-api-core->google-generativeai) (1.64.1)\n",
            "Requirement already satisfied: grpcio-status<2.0.dev0,>=1.33.2 in /usr/local/lib/python3.10/dist-packages (from google-api-core->google-generativeai) (1.48.2)\n",
            "Requirement already satisfied: pyparsing!=3.0.0,!=3.0.1,!=3.0.2,!=3.0.3,<4,>=2.4.2 in /usr/local/lib/python3.10/dist-packages (from httplib2<1dev,>=0.15.0->google-api-python-client->google-generativeai) (3.1.2)\n",
            "Requirement already satisfied: pyasn1<0.7.0,>=0.4.6 in /usr/local/lib/python3.10/dist-packages (from pyasn1-modules>=0.2.1->google-auth>=2.15.0->google-generativeai) (0.6.0)\n",
            "Requirement already satisfied: charset-normalizer<4,>=2 in /usr/local/lib/python3.10/dist-packages (from requests<3.0.0.dev0,>=2.18.0->google-api-core->google-generativeai) (3.3.2)\n",
            "Requirement already satisfied: idna<4,>=2.5 in /usr/local/lib/python3.10/dist-packages (from requests<3.0.0.dev0,>=2.18.0->google-api-core->google-generativeai) (3.7)\n",
            "Requirement already satisfied: urllib3<3,>=1.21.1 in /usr/local/lib/python3.10/dist-packages (from requests<3.0.0.dev0,>=2.18.0->google-api-core->google-generativeai) (2.0.7)\n",
            "Requirement already satisfied: certifi>=2017.4.17 in /usr/local/lib/python3.10/dist-packages (from requests<3.0.0.dev0,>=2.18.0->google-api-core->google-generativeai) (2024.6.2)\n"
          ]
        }
      ]
    },
    {
      "cell_type": "code",
      "source": [
        "#demo\n",
        "\n",
        "import google.generativeai as genai\n",
        "Gooogle_API_Key =\"#Add your API Key\"\n",
        "user_text=\"\"\"\n",
        "Give me the sentiment of this sentence \"I love this movie\"\n",
        "\"\"\"\n",
        "genai.configure(api_key=Gooogle_API_Key)\n",
        "model=genai.GenerativeModel(\"gemini-pro\")\n",
        "response=model.generate_content(user_text)\n",
        "results=response.text\n",
        "print(results)"
      ],
      "metadata": {
        "colab": {
          "base_uri": "https://localhost:8080/",
          "height": 34
        },
        "id": "zFvi7EHB21E0",
        "outputId": "3396c668-31d1-419c-bd4e-64c5da62011c"
      },
      "execution_count": 1,
      "outputs": [
        {
          "output_type": "stream",
          "name": "stdout",
          "text": [
            "Positive\n"
          ]
        }
      ]
    },
    {
      "cell_type": "code",
      "source": [
        "import google.generativeai as genai\n",
        "Gooogle_API_Key =\"#Add your API Key\"\n",
        "user_text_2=\"\"\"\n",
        "Give me the sentiment of this sentence \"I do not like this movie\"\n",
        "\"\"\"\n",
        "genai.configure(api_key=Gooogle_API_Key)\n",
        "model2=genai.GenerativeModel(\"gemini-pro\")\n",
        "response2=model2.generate_content(user_text_2)\n",
        "results2=response2.text\n",
        "print(results2)"
      ],
      "metadata": {
        "id": "w0y7hGlS4bYZ",
        "colab": {
          "base_uri": "https://localhost:8080/",
          "height": 34
        },
        "outputId": "5c2261e5-0412-4795-a427-7e3146ec0556"
      },
      "execution_count": 2,
      "outputs": [
        {
          "output_type": "stream",
          "name": "stdout",
          "text": [
            "Negative\n"
          ]
        }
      ]
    },
    {
      "cell_type": "code",
      "source": [
        "import google.generativeai as genai\n",
        "Gooogle_API_Key =\"#Add your API Key\"\n",
        "user_text_3=\"\"\"\n",
        "Give me the Tamil transilation of this sentence:\n",
        "\"I want to meet you soon\"\n",
        "\"\"\"\n",
        "genai.configure(api_key=Gooogle_API_Key)\n",
        "model3=genai.GenerativeModel(\"gemini-pro\")\n",
        "response3=model3.generate_content(user_text_3)\n",
        "results3=response3.text\n",
        "print(results3)"
      ],
      "metadata": {
        "colab": {
          "base_uri": "https://localhost:8080/",
          "height": 34
        },
        "id": "EjToX7l-CN_e",
        "outputId": "e29dfce0-838b-4d9e-a53a-615c21b2503a"
      },
      "execution_count": 9,
      "outputs": [
        {
          "output_type": "stream",
          "name": "stdout",
          "text": [
            "உன்னிடம் விரைவில் சந்திக்க ஆசை\n"
          ]
        }
      ]
    },
    {
      "cell_type": "code",
      "source": [
        "import google.generativeai as genai\n",
        "Gooogle_API_Key =\"#Add your API Key\"\n",
        "user_text_4=\"\"\"\n",
        "Identify the language of this sentence:\n",
        "\"உன்னிடம் விரைவில் சந்திக்க ஆசை\"\n",
        "\"\"\"\n",
        "genai.configure(api_key=Gooogle_API_Key)\n",
        "model4=genai.GenerativeModel(\"gemini-pro\")\n",
        "response4=model4.generate_content(user_text_4)\n",
        "results4=response4.text\n",
        "print(results4)"
      ],
      "metadata": {
        "colab": {
          "base_uri": "https://localhost:8080/",
          "height": 34
        },
        "id": "eTtfTtMHC4xh",
        "outputId": "662e2afe-4896-4f1e-d580-039d722d6585"
      },
      "execution_count": 10,
      "outputs": [
        {
          "output_type": "stream",
          "name": "stdout",
          "text": [
            "Tamil\n"
          ]
        }
      ]
    },
    {
      "cell_type": "code",
      "source": [],
      "metadata": {
        "id": "_V2819kgD8Hc"
      },
      "execution_count": null,
      "outputs": []
    },
    {
      "cell_type": "markdown",
      "source": [
        "## Oop - Code"
      ],
      "metadata": {
        "id": "12z9VqPJEkoj"
      }
    },
    {
      "cell_type": "code",
      "source": [
        "import google.generativeai as genai\n",
        "\n",
        "class NLPModel:\n",
        "    def __init__(self):\n",
        "        genai.configure(api_key=\"#Add your API Key\")\n",
        "        self.model = genai.GenerativeModel(\"gemini-pro\")\n",
        "\n",
        "class NLPApp(NLPModel):\n",
        "    def __init__(self):\n",
        "        super().__init__()\n",
        "        self.__database = {}\n",
        "        self.__first_menu()\n",
        "\n",
        "    def __first_menu(self):\n",
        "        first_input = input(\"\"\"\n",
        "        Hi! how would you like to proceed?\n",
        "\n",
        "        1. Not a member? Register\n",
        "        2. Already a member? Login\n",
        "        3. Do not want to do anything? Exit\n",
        "        \"\"\")\n",
        "\n",
        "        if first_input == \"1\":\n",
        "            self.__register()\n",
        "        elif first_input == \"2\":\n",
        "            self.__login()\n",
        "        else:\n",
        "            exit()\n",
        "\n",
        "    def __second_menu(self):\n",
        "        second_input = input(\"\"\"\n",
        "        Hi! how would you like to proceed?\n",
        "\n",
        "        1. Sentiment Analysis\n",
        "        2. Language Translation\n",
        "        3. Language Detection\n",
        "        \"\"\")\n",
        "\n",
        "        if second_input == \"1\":\n",
        "            self.__sentiment_analysis()\n",
        "        elif second_input == \"2\":\n",
        "            self.__language_translation()\n",
        "        elif second_input == \"3\":\n",
        "            self.__language_detection()\n",
        "        else:\n",
        "            exit()\n",
        "\n",
        "    def __register(self):\n",
        "        name = input(\"Enter your name: \")\n",
        "        email = input(\"Enter your email: \")\n",
        "        password = input(\"Enter your password: \")\n",
        "\n",
        "        if email in self.__database:\n",
        "            print(\"Email already exists\")\n",
        "        else:\n",
        "            self.__database[email] = [name, password]\n",
        "            print(\"Registration successful! Now you can login\")\n",
        "            self.__first_menu()\n",
        "\n",
        "    def __login(self):\n",
        "        email = input(\"Enter your email: \")\n",
        "        password = input(\"Enter your password: \")\n",
        "\n",
        "        if email in self.__database:\n",
        "            if self.__database[email][1] == password:\n",
        "                print(\"Login successful\")\n",
        "                self.__second_menu()\n",
        "            else:\n",
        "                print(\"Wrong password!!, try again\")\n",
        "                self.__login()\n",
        "        else:\n",
        "            print(\"This email is not registered\")\n",
        "            self.__first_menu()\n",
        "\n",
        "    def __sentiment_analysis(self):\n",
        "        user_text = input(\"Enter your text: \")\n",
        "        try:\n",
        "            response = self.model.generate_content(f\"Give me the sentiment of this sentence: {user_text}\")\n",
        "            results = response.text if hasattr(response, 'text') else \"Error: No response text\"\n",
        "        except Exception as e:\n",
        "            results = f\"An error occurred: {e}\"\n",
        "        print(results)\n",
        "        self.__second_menu()\n",
        "\n",
        "    def __language_translation(self):\n",
        "        user_text = input(\"Enter your text: \")\n",
        "        try:\n",
        "            response = self.model.generate_content(f\"Give me the Tamil translation of this sentence: {user_text}\")\n",
        "            results = response.text if hasattr(response, 'text') else \"Error: No response text\"\n",
        "        except Exception as e:\n",
        "            results = f\"An error occurred: {e}\"\n",
        "        print(results)\n",
        "        self.__second_menu()\n",
        "\n",
        "    def __language_detection(self):\n",
        "        user_text = input(\"Enter your text: \")\n",
        "        try:\n",
        "            response = self.model.generate_content(f\"Identify the language of this sentence: {user_text}\")\n",
        "            results = response.text if hasattr(response, 'text') else \"Error: No response text\"\n",
        "        except Exception as e:\n",
        "            results = f\"An error occurred: {e}\"\n",
        "        print(results)\n",
        "        self.__second_menu()\n",
        "\n",
        "# Create an instance of the class to start the application\n",
        "app = NLPApp()\n"
      ],
      "metadata": {
        "colab": {
          "base_uri": "https://localhost:8080/",
          "height": 991
        },
        "id": "Ehl13fqzm7XZ",
        "outputId": "0c7812f4-c7fa-4c54-de2b-d45a0f329673"
      },
      "execution_count": 5,
      "outputs": [
        {
          "name": "stdout",
          "output_type": "stream",
          "text": [
            "\n",
            "        Hi! how would you like to proceed?\n",
            "        \n",
            "        1. Not a member? Register\n",
            "        2. Already a member? Login\n",
            "        3. Do not want to do anything? Exit\n",
            "        1\n",
            "Enter your name: barath\n",
            "Enter your email: barath33@gmail.com\n",
            "Enter your password: 123\n",
            "Registration successful! Now you can login\n",
            "\n",
            "        Hi! how would you like to proceed?\n",
            "        \n",
            "        1. Not a member? Register\n",
            "        2. Already a member? Login\n",
            "        3. Do not want to do anything? Exit\n",
            "        2\n",
            "Enter your email: barath33@gmail.com\n",
            "Enter your password: 123\n",
            "Login successful\n",
            "\n",
            "        Hi! how would you like to proceed?\n",
            "        \n",
            "        1. Sentiment Analysis\n",
            "        2. Language Translation\n",
            "        3. Language Detection\n",
            "        2\n",
            "Enter your text: Tamil language is the oldest language in india\n",
            "An error occurred: The `response.text` quick accessor only works when the response contains a valid `Part`, but none was returned. Check the `candidate.safety_ratings` to see if the response was blocked.\n",
            "\n",
            "        Hi! how would you like to proceed?\n",
            "        \n",
            "        1. Sentiment Analysis\n",
            "        2. Language Translation\n",
            "        3. Language Detection\n",
            "        3\n",
            "Enter your text: உன்னிடம் விரைவில் சந்திக்க ஆசை\n",
            "Tamil\n",
            "\n",
            "        Hi! how would you like to proceed?\n",
            "        \n",
            "        1. Sentiment Analysis\n",
            "        2. Language Translation\n",
            "        3. Language Detection\n",
            "        2\n",
            "Enter your text: உன்னிடம் விரைவில் சந்திக்க ஆசை\n",
            "An error occurred: The `response.text` quick accessor only works when the response contains a valid `Part`, but none was returned. Check the `candidate.safety_ratings` to see if the response was blocked.\n",
            "\n",
            "        Hi! how would you like to proceed?\n",
            "        \n",
            "        1. Sentiment Analysis\n",
            "        2. Language Translation\n",
            "        3. Language Detection\n",
            "        4\n"
          ]
        }
      ]
    },
    {
      "cell_type": "code",
      "source": [],
      "metadata": {
        "id": "jTmT7Mblnb5Q"
      },
      "execution_count": null,
      "outputs": []
    }
  ]
}